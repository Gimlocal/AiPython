{
  "nbformat": 4,
  "nbformat_minor": 0,
  "metadata": {
    "colab": {
      "provenance": [],
      "authorship_tag": "ABX9TyNeCXq8IGCB+CVRNZ3dUEyx",
      "include_colab_link": true
    },
    "kernelspec": {
      "name": "python3",
      "display_name": "Python 3"
    },
    "language_info": {
      "name": "python"
    }
  },
  "cells": [
    {
      "cell_type": "markdown",
      "metadata": {
        "id": "view-in-github",
        "colab_type": "text"
      },
      "source": [
        "<a href=\"https://colab.research.google.com/github/Gimlocal/AiPython/blob/main/Hello.ipynb\" target=\"_parent\"><img src=\"https://colab.research.google.com/assets/colab-badge.svg\" alt=\"Open In Colab\"/></a>"
      ]
    },
    {
      "cell_type": "code",
      "execution_count": null,
      "metadata": {
        "colab": {
          "base_uri": "https://localhost:8080/"
        },
        "id": "Pv8ayC3RwK36",
        "outputId": "2a72fc85-eca8-4273-dcb9-9e74f815e332"
      },
      "outputs": [
        {
          "output_type": "stream",
          "name": "stdout",
          "text": [
            "Hello World\n"
          ]
        }
      ],
      "source": [
        "#출력하기\n",
        "print(\"Hello World\")"
      ]
    },
    {
      "cell_type": "code",
      "source": [
        "# 입력에서 두 정수 A와 B를 공백으로 구분하여 받아옵니다.\n",
        "A, B = map(int, input().split())\n",
        "\n",
        "# A와 B를 비교하여 결과를 출력합니다.\n",
        "if A > B:\n",
        "    print(\">\")\n",
        "elif A < B:\n",
        "    print(\"<\")\n",
        "else:\n",
        "    print(\"==\")"
      ],
      "metadata": {
        "colab": {
          "base_uri": "https://localhost:8080/"
        },
        "id": "ma5YnYIWOxqO",
        "outputId": "8500e71e-8ed2-474e-abaf-7c6c6091a7e7"
      },
      "execution_count": null,
      "outputs": [
        {
          "output_type": "stream",
          "name": "stdout",
          "text": [
            "3 2\n",
            ">\n"
          ]
        }
      ]
    }
  ]
}
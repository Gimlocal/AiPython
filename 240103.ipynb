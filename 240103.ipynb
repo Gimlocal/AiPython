{
  "nbformat": 4,
  "nbformat_minor": 0,
  "metadata": {
    "colab": {
      "provenance": [],
      "authorship_tag": "ABX9TyPthvhSsTVZ7NSUnKlEcad0",
      "include_colab_link": true
    },
    "kernelspec": {
      "name": "python3",
      "display_name": "Python 3"
    },
    "language_info": {
      "name": "python"
    }
  },
  "cells": [
    {
      "cell_type": "markdown",
      "metadata": {
        "id": "view-in-github",
        "colab_type": "text"
      },
      "source": [
        "<a href=\"https://colab.research.google.com/github/Gimlocal/AiPython/blob/main/240103.ipynb\" target=\"_parent\"><img src=\"https://colab.research.google.com/assets/colab-badge.svg\" alt=\"Open In Colab\"/></a>"
      ]
    },
    {
      "cell_type": "code",
      "execution_count": null,
      "metadata": {
        "colab": {
          "base_uri": "https://localhost:8080/"
        },
        "id": "ulx5NqVk3rPN",
        "outputId": "f03d73f4-9816-43f3-d4e4-27eb32a0dfa0"
      },
      "outputs": [
        {
          "output_type": "stream",
          "name": "stdout",
          "text": [
            "a는 5보다 큽니다.\n"
          ]
        }
      ],
      "source": [
        "a = 10\n",
        "if a > 5:\n",
        "  print(\"a는 5보다 큽니다.\")"
      ]
    },
    {
      "cell_type": "code",
      "source": [
        "a = input(\"성별을 입력해주세요.(남 or 여) : \")\n",
        "if (a == \"남\"):\n",
        "  print(\"남성입니다.\")\n",
        "elif (a == \"여\"):\n",
        "  print(\"여성입니다.\")\n",
        "else:\n",
        "  print(\"똑바로 입력해주세요.\")"
      ],
      "metadata": {
        "colab": {
          "base_uri": "https://localhost:8080/"
        },
        "id": "ZwZ6MXvy6pOU",
        "outputId": "d83c2f3f-ccc1-4d04-eb51-a26f1a4dc5f2"
      },
      "execution_count": null,
      "outputs": [
        {
          "output_type": "stream",
          "name": "stdout",
          "text": [
            "성별을 입력해주세요.(남 or 여) : 여\n",
            "여성입니다.\n"
          ]
        }
      ]
    },
    {
      "cell_type": "code",
      "source": [
        "a = int(input(\"점수를 입력하세요 : \"))\n",
        "\n",
        "if 90 <= a <= 100:\n",
        "    print(\"A\")\n",
        "elif a >= 80:\n",
        "    print(\"B\")\n",
        "elif a >= 70:\n",
        "    print(\"C\")\n",
        "elif a >= 60:\n",
        "    print(\"D\")\n",
        "else:\n",
        "    print(\"F\")\n"
      ],
      "metadata": {
        "colab": {
          "base_uri": "https://localhost:8080/"
        },
        "id": "_cPtkZZv8qP7",
        "outputId": "23e946b3-fc9f-4e2c-f354-e542a1fecc6f"
      },
      "execution_count": null,
      "outputs": [
        {
          "output_type": "stream",
          "name": "stdout",
          "text": [
            "점수를 입력하세요 : 95\n",
            "A\n"
          ]
        }
      ]
    },
    {
      "cell_type": "code",
      "source": [
        "a = 10\n",
        "b = 5\n",
        "if a > 5:\n",
        "  if b < 10:\n",
        "    print(\"a는 5보다 크고 b는 10보다 작습니다.\")"
      ],
      "metadata": {
        "colab": {
          "base_uri": "https://localhost:8080/"
        },
        "id": "483Xn4Y6-g0r",
        "outputId": "38511a20-78e8-4b82-b329-3a2e43eb2f88"
      },
      "execution_count": null,
      "outputs": [
        {
          "output_type": "stream",
          "name": "stdout",
          "text": [
            "a는 5보다 크고 b는 10보다 작습니다.\n"
          ]
        }
      ]
    },
    {
      "cell_type": "code",
      "source": [
        "a = 10\n",
        "b = 5\n",
        "if a > 5 & b <10:\n",
        "  print(\"a는 5보다 크고 b는 10보다 작습니다.\")"
      ],
      "metadata": {
        "colab": {
          "base_uri": "https://localhost:8080/"
        },
        "id": "pC0N5OcNBT4M",
        "outputId": "58db8625-69c2-404d-e8bc-678d340eb7b0"
      },
      "execution_count": null,
      "outputs": [
        {
          "output_type": "stream",
          "name": "stdout",
          "text": [
            "a는 5보다 크고 b는 10보다 작습니다.\n"
          ]
        }
      ]
    },
    {
      "cell_type": "code",
      "source": [
        "a = [1, 2, 3, 4, 5]\n",
        "for i in a:\n",
        "  print(i,end=\"\")"
      ],
      "metadata": {
        "colab": {
          "base_uri": "https://localhost:8080/"
        },
        "id": "BEvAzSVPCAIM",
        "outputId": "7644fc85-5ff3-4e5b-90af-f4ca1e8d0f66"
      },
      "execution_count": null,
      "outputs": [
        {
          "output_type": "stream",
          "name": "stdout",
          "text": [
            "12345"
          ]
        }
      ]
    },
    {
      "cell_type": "code",
      "source": [
        "for i in range(1, 10, 2):\n",
        "  print(i)"
      ],
      "metadata": {
        "colab": {
          "base_uri": "https://localhost:8080/"
        },
        "id": "GT3WJtWWDk4E",
        "outputId": "aa32f92a-7b5a-476d-d94b-fe836a5d8b67"
      },
      "execution_count": null,
      "outputs": [
        {
          "output_type": "stream",
          "name": "stdout",
          "text": [
            "1\n",
            "3\n",
            "5\n",
            "7\n",
            "9\n"
          ]
        }
      ]
    },
    {
      "cell_type": "code",
      "source": [
        "for i in range(10):\n",
        "  print(i)"
      ],
      "metadata": {
        "colab": {
          "base_uri": "https://localhost:8080/"
        },
        "id": "iDs9X0ARETqT",
        "outputId": "d992b39c-de55-436f-a3b6-fbde4656dfa4"
      },
      "execution_count": null,
      "outputs": [
        {
          "output_type": "stream",
          "name": "stdout",
          "text": [
            "0\n",
            "1\n",
            "2\n",
            "3\n",
            "4\n",
            "5\n",
            "6\n",
            "7\n",
            "8\n",
            "9\n"
          ]
        }
      ]
    },
    {
      "cell_type": "code",
      "source": [
        "a,b,c=map(int,input().split())\n",
        "\n",
        "\n",
        "if ((a < b and a > c)or(a > b and a < c)):\n",
        "  print(a)\n",
        "elif ((b < a and b > c)or(b > a and b < c)):\n",
        "  print(b)\n",
        "else:\n",
        "  print(c)"
      ],
      "metadata": {
        "colab": {
          "base_uri": "https://localhost:8080/"
        },
        "id": "sZMBbc3rEdG0",
        "outputId": "9e2f75d7-3742-4f62-e617-e08808a3f474"
      },
      "execution_count": null,
      "outputs": [
        {
          "output_type": "stream",
          "name": "stdout",
          "text": [
            "6 8 4\n",
            "6\n"
          ]
        }
      ]
    },
    {
      "cell_type": "code",
      "source": [
        "a, b, c = map(int, input().split())\n",
        "\n",
        "mid_value = a + b + c - min(a, b, c) - max(a, b, c)\n",
        "\n",
        "print(mid_value)"
      ],
      "metadata": {
        "colab": {
          "base_uri": "https://localhost:8080/"
        },
        "id": "iK3b9st8NJJu",
        "outputId": "1ea3eef2-dd49-47bd-bdc9-1273fdd6e62d"
      },
      "execution_count": null,
      "outputs": [
        {
          "output_type": "stream",
          "name": "stdout",
          "text": [
            "1 2 5\n",
            "2\n"
          ]
        }
      ]
    },
    {
      "cell_type": "code",
      "source": [
        "def add(x,y):\n",
        "  s = x + y\n",
        "  a = s / 2\n",
        "  return s, a\n",
        "h,a = add(10,20)\n",
        "print(\"합:\",h, \"평균:\", a)"
      ],
      "metadata": {
        "colab": {
          "base_uri": "https://localhost:8080/"
        },
        "id": "juBS6bCQPEQN",
        "outputId": "23afe540-c5cc-4611-8267-b5448d582df7"
      },
      "execution_count": null,
      "outputs": [
        {
          "output_type": "stream",
          "name": "stdout",
          "text": [
            "합: 30 평균: 15.0\n"
          ]
        }
      ]
    },
    {
      "cell_type": "code",
      "source": [
        "def add(x,y):\n",
        "  s = x + y\n",
        "  a = s / 2\n",
        "  print(\"합:\",h, \"평균:\", a)\n",
        "\n",
        "add(10,20)"
      ],
      "metadata": {
        "colab": {
          "base_uri": "https://localhost:8080/"
        },
        "id": "cfaQKQmMQSnO",
        "outputId": "69ec291a-bf60-4078-c267-ea41dd49836d"
      },
      "execution_count": null,
      "outputs": [
        {
          "output_type": "stream",
          "name": "stdout",
          "text": [
            "합: 30 평균: 15.0\n"
          ]
        }
      ]
    },
    {
      "cell_type": "code",
      "source": [
        "# 본 예제에서는 if 조건문의 기본 활용법에 대해 살펴본다.\n",
        "# 점수를 세 번 입력받고 평균을 계산한 후, 전역 상수와 비교하여\n",
        "# 클 경우에는 메시지를 출력한다.\n",
        "# 전역 상수 선언\n",
        "HIGH_SCORE = 95\n",
        "def main(): # 점수를 세 번 입력받아 각 변수에 할당한다.\n",
        "  test1 = int(input('Enter the score for test 1: '))\n",
        "  test2 = int(input('Enter the score for test 2: '))\n",
        "  test3 = int(input('Enter the score for test 3: '))\n",
        "  average = (test1 + test2 + test3) / 3\n",
        "  print('The average score is', average)\n",
        " # 평균값이 HIGH_SCORE 보다 클 경우에 메시지 출력\n",
        "  if average >= HIGH_SCORE:\n",
        "    print('Congratulations!')\n",
        "    print('That is a great average!')\n",
        "\n",
        "main()"
      ],
      "metadata": {
        "colab": {
          "base_uri": "https://localhost:8080/"
        },
        "id": "Foif34bhQ5Ld",
        "outputId": "bab4ca2c-8f65-44fe-e070-ac3f984da59d"
      },
      "execution_count": null,
      "outputs": [
        {
          "output_type": "stream",
          "name": "stdout",
          "text": [
            "Enter the score for test 1: 93\n",
            "Enter the score for test 2: 99\n",
            "Enter the score for test 3: 96\n",
            "The average score is 96.0\n",
            "Congratulations!\n",
            "That is a great average!\n"
          ]
        }
      ]
    },
    {
      "cell_type": "code",
      "source": [
        "BASE_SIZE = 8\n",
        "for r in range(BASE_SIZE):\n",
        "  for c in range(BASE_SIZE - r):\n",
        "    print('*', end='')\n",
        "  print()\n"
      ],
      "metadata": {
        "colab": {
          "base_uri": "https://localhost:8080/"
        },
        "id": "Rcw_YAv5WO6Z",
        "outputId": "f4251600-8adb-4503-80dd-634c85067d07"
      },
      "execution_count": 42,
      "outputs": [
        {
          "output_type": "stream",
          "name": "stdout",
          "text": [
            "********\n",
            "*******\n",
            "******\n",
            "*****\n",
            "****\n",
            "***\n",
            "**\n",
            "*\n"
          ]
        }
      ]
    }
  ]
}